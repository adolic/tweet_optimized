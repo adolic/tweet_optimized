{
 "cells": [
  {
   "cell_type": "code",
   "execution_count": 4,
   "metadata": {},
   "outputs": [
    {
     "name": "stderr",
     "output_type": "stream",
     "text": [
      "Future exception was never retrieved\n",
      "future: <Future finished exception=TargetClosedError('Target page, context or browser has been closed')>\n",
      "playwright._impl._errors.TargetClosedError: Target page, context or browser has been closed\n"
     ]
    }
   ],
   "source": [
    "import sys\n",
    "sys.path.insert(0, '../')\n",
    "import pandas as pd\n"
   ]
  },
  {
   "cell_type": "code",
   "execution_count": 27,
   "metadata": {},
   "outputs": [
    {
     "data": {
      "text/html": [
       "<div>\n",
       "<style scoped>\n",
       "    .dataframe tbody tr th:only-of-type {\n",
       "        vertical-align: middle;\n",
       "    }\n",
       "\n",
       "    .dataframe tbody tr th {\n",
       "        vertical-align: top;\n",
       "    }\n",
       "\n",
       "    .dataframe thead th {\n",
       "        text-align: right;\n",
       "    }\n",
       "</style>\n",
       "<table border=\"1\" class=\"dataframe\">\n",
       "  <thead>\n",
       "    <tr style=\"text-align: right;\">\n",
       "      <th></th>\n",
       "      <th>tweetId</th>\n",
       "      <th>observationTime</th>\n",
       "      <th>author</th>\n",
       "      <th>tweetTime</th>\n",
       "      <th>text</th>\n",
       "      <th>views</th>\n",
       "      <th>likes</th>\n",
       "      <th>retweets</th>\n",
       "      <th>comments</th>\n",
       "      <th>url</th>\n",
       "      <th>verification</th>\n",
       "      <th>isReply</th>\n",
       "    </tr>\n",
       "  </thead>\n",
       "  <tbody>\n",
       "    <tr>\n",
       "      <th>0</th>\n",
       "      <td>1896310473915802080</td>\n",
       "      <td>2025-03-03T00:27:12.585Z</td>\n",
       "      <td>beyzanurapaydin</td>\n",
       "      <td>2025-03-02T21:23:43.000Z</td>\n",
       "      <td>Stacy Martin at the #Oscars2025</td>\n",
       "      <td>6700.0</td>\n",
       "      <td>60</td>\n",
       "      <td>18</td>\n",
       "      <td>1</td>\n",
       "      <td>https://twitter.com/i/status/1896310473915802080</td>\n",
       "      <td>{'verified': True, 'type': 'blue'}</td>\n",
       "      <td>False</td>\n",
       "    </tr>\n",
       "    <tr>\n",
       "      <th>1</th>\n",
       "      <td>1896226783785279812</td>\n",
       "      <td>2025-03-03T00:29:15.476Z</td>\n",
       "      <td>offgriddesigner</td>\n",
       "      <td>2025-03-02T15:51:10.000Z</td>\n",
       "      <td>The King of England, constitutionally required...</td>\n",
       "      <td>10000.0</td>\n",
       "      <td>1317</td>\n",
       "      <td>326</td>\n",
       "      <td>51</td>\n",
       "      <td>https://twitter.com/i/status/1896226783785279812</td>\n",
       "      <td>{'verified': True, 'type': 'blue'}</td>\n",
       "      <td>False</td>\n",
       "    </tr>\n",
       "    <tr>\n",
       "      <th>2</th>\n",
       "      <td>1896226783785279812</td>\n",
       "      <td>2025-03-03T00:29:18.248Z</td>\n",
       "      <td>offgriddesigner</td>\n",
       "      <td>2025-03-02T15:51:10.000Z</td>\n",
       "      <td>The King of England, constitutionally required...</td>\n",
       "      <td>10000.0</td>\n",
       "      <td>1317</td>\n",
       "      <td>326</td>\n",
       "      <td>51</td>\n",
       "      <td>https://twitter.com/i/status/1896226783785279812</td>\n",
       "      <td>{'verified': True, 'type': 'blue'}</td>\n",
       "      <td>False</td>\n",
       "    </tr>\n",
       "    <tr>\n",
       "      <th>3</th>\n",
       "      <td>1896256464114868467</td>\n",
       "      <td>2025-03-03T00:26:13.425Z</td>\n",
       "      <td>gaulicsmith</td>\n",
       "      <td>2025-03-02T17:49:06.000Z</td>\n",
       "      <td>Interesting study: “EU imports of Russian foss...</td>\n",
       "      <td>867.0</td>\n",
       "      <td>10</td>\n",
       "      <td>0</td>\n",
       "      <td>0</td>\n",
       "      <td>https://twitter.com/i/status/1896256464114868467</td>\n",
       "      <td>{'verified': True, 'type': 'blue'}</td>\n",
       "      <td>False</td>\n",
       "    </tr>\n",
       "    <tr>\n",
       "      <th>4</th>\n",
       "      <td>1896256464114868467</td>\n",
       "      <td>2025-03-03T00:26:14.261Z</td>\n",
       "      <td>gaulicsmith</td>\n",
       "      <td>2025-03-02T17:49:06.000Z</td>\n",
       "      <td>Interesting study: “EU imports of Russian foss...</td>\n",
       "      <td>867.0</td>\n",
       "      <td>10</td>\n",
       "      <td>0</td>\n",
       "      <td>0</td>\n",
       "      <td>https://twitter.com/i/status/1896256464114868467</td>\n",
       "      <td>{'verified': True, 'type': 'blue'}</td>\n",
       "      <td>False</td>\n",
       "    </tr>\n",
       "    <tr>\n",
       "      <th>...</th>\n",
       "      <td>...</td>\n",
       "      <td>...</td>\n",
       "      <td>...</td>\n",
       "      <td>...</td>\n",
       "      <td>...</td>\n",
       "      <td>...</td>\n",
       "      <td>...</td>\n",
       "      <td>...</td>\n",
       "      <td>...</td>\n",
       "      <td>...</td>\n",
       "      <td>...</td>\n",
       "      <td>...</td>\n",
       "    </tr>\n",
       "    <tr>\n",
       "      <th>3792</th>\n",
       "      <td>1895311279520391651</td>\n",
       "      <td>2025-03-03T01:24:07.204Z</td>\n",
       "      <td>yacineMTB</td>\n",
       "      <td>2025-02-28T03:13:16.000Z</td>\n",
       "      <td>this is objectively the best pen. practical, s...</td>\n",
       "      <td>21000000.0</td>\n",
       "      <td>13551</td>\n",
       "      <td>4562</td>\n",
       "      <td>1464</td>\n",
       "      <td>https://twitter.com/i/status/1895311279520391651</td>\n",
       "      <td>{'verified': True, 'type': 'blue'}</td>\n",
       "      <td>False</td>\n",
       "    </tr>\n",
       "    <tr>\n",
       "      <th>3793</th>\n",
       "      <td>1895940738841743770</td>\n",
       "      <td>2025-03-03T01:31:22.986Z</td>\n",
       "      <td>Ringler_SSBM</td>\n",
       "      <td>2025-03-01T20:54:31.000Z</td>\n",
       "      <td>I’m 28 today which is the first time you’re 30...</td>\n",
       "      <td>1500000.0</td>\n",
       "      <td>72737</td>\n",
       "      <td>6175</td>\n",
       "      <td>193</td>\n",
       "      <td>https://twitter.com/i/status/1895940738841743770</td>\n",
       "      <td>{'verified': False, 'type': None}</td>\n",
       "      <td>False</td>\n",
       "    </tr>\n",
       "    <tr>\n",
       "      <th>3794</th>\n",
       "      <td>1895940738841743770</td>\n",
       "      <td>2025-03-03T01:32:03.702Z</td>\n",
       "      <td>Ringler_SSBM</td>\n",
       "      <td>2025-03-01T20:54:31.000Z</td>\n",
       "      <td>I’m 28 today which is the first time you’re 30...</td>\n",
       "      <td>1500000.0</td>\n",
       "      <td>72737</td>\n",
       "      <td>6175</td>\n",
       "      <td>193</td>\n",
       "      <td>https://twitter.com/i/status/1895940738841743770</td>\n",
       "      <td>{'verified': False, 'type': None}</td>\n",
       "      <td>False</td>\n",
       "    </tr>\n",
       "    <tr>\n",
       "      <th>3795</th>\n",
       "      <td>1896266776880787658</td>\n",
       "      <td>2025-03-03T00:28:12.240Z</td>\n",
       "      <td>BreannaMorello</td>\n",
       "      <td>2025-03-02T18:30:05.000Z</td>\n",
       "      <td>The UK government is prepared to sacrifice its...</td>\n",
       "      <td>10000.0</td>\n",
       "      <td>503</td>\n",
       "      <td>98</td>\n",
       "      <td>106</td>\n",
       "      <td>https://twitter.com/i/status/1896266776880787658</td>\n",
       "      <td>{'verified': True, 'type': 'blue'}</td>\n",
       "      <td>False</td>\n",
       "    </tr>\n",
       "    <tr>\n",
       "      <th>3796</th>\n",
       "      <td>1895946107072757884</td>\n",
       "      <td>2025-03-03T00:32:27.515Z</td>\n",
       "      <td>blueandgreyuser</td>\n",
       "      <td>2025-03-01T21:15:51.000Z</td>\n",
       "      <td>This guy can never be at peace dating this gir...</td>\n",
       "      <td>1500.0</td>\n",
       "      <td>10</td>\n",
       "      <td>2</td>\n",
       "      <td>2</td>\n",
       "      <td>https://twitter.com/i/status/1895946107072757884</td>\n",
       "      <td>{'verified': False, 'type': None}</td>\n",
       "      <td>False</td>\n",
       "    </tr>\n",
       "  </tbody>\n",
       "</table>\n",
       "<p>6031 rows × 12 columns</p>\n",
       "</div>"
      ],
      "text/plain": [
       "                  tweetId           observationTime           author  \\\n",
       "0     1896310473915802080  2025-03-03T00:27:12.585Z  beyzanurapaydin   \n",
       "1     1896226783785279812  2025-03-03T00:29:15.476Z  offgriddesigner   \n",
       "2     1896226783785279812  2025-03-03T00:29:18.248Z  offgriddesigner   \n",
       "3     1896256464114868467  2025-03-03T00:26:13.425Z      gaulicsmith   \n",
       "4     1896256464114868467  2025-03-03T00:26:14.261Z      gaulicsmith   \n",
       "...                   ...                       ...              ...   \n",
       "3792  1895311279520391651  2025-03-03T01:24:07.204Z        yacineMTB   \n",
       "3793  1895940738841743770  2025-03-03T01:31:22.986Z     Ringler_SSBM   \n",
       "3794  1895940738841743770  2025-03-03T01:32:03.702Z     Ringler_SSBM   \n",
       "3795  1896266776880787658  2025-03-03T00:28:12.240Z   BreannaMorello   \n",
       "3796  1895946107072757884  2025-03-03T00:32:27.515Z  blueandgreyuser   \n",
       "\n",
       "                     tweetTime  \\\n",
       "0     2025-03-02T21:23:43.000Z   \n",
       "1     2025-03-02T15:51:10.000Z   \n",
       "2     2025-03-02T15:51:10.000Z   \n",
       "3     2025-03-02T17:49:06.000Z   \n",
       "4     2025-03-02T17:49:06.000Z   \n",
       "...                        ...   \n",
       "3792  2025-02-28T03:13:16.000Z   \n",
       "3793  2025-03-01T20:54:31.000Z   \n",
       "3794  2025-03-01T20:54:31.000Z   \n",
       "3795  2025-03-02T18:30:05.000Z   \n",
       "3796  2025-03-01T21:15:51.000Z   \n",
       "\n",
       "                                                   text       views  likes  \\\n",
       "0                       Stacy Martin at the #Oscars2025      6700.0     60   \n",
       "1     The King of England, constitutionally required...     10000.0   1317   \n",
       "2     The King of England, constitutionally required...     10000.0   1317   \n",
       "3     Interesting study: “EU imports of Russian foss...       867.0     10   \n",
       "4     Interesting study: “EU imports of Russian foss...       867.0     10   \n",
       "...                                                 ...         ...    ...   \n",
       "3792  this is objectively the best pen. practical, s...  21000000.0  13551   \n",
       "3793  I’m 28 today which is the first time you’re 30...   1500000.0  72737   \n",
       "3794  I’m 28 today which is the first time you’re 30...   1500000.0  72737   \n",
       "3795  The UK government is prepared to sacrifice its...     10000.0    503   \n",
       "3796  This guy can never be at peace dating this gir...      1500.0     10   \n",
       "\n",
       "      retweets  comments                                               url  \\\n",
       "0           18         1  https://twitter.com/i/status/1896310473915802080   \n",
       "1          326        51  https://twitter.com/i/status/1896226783785279812   \n",
       "2          326        51  https://twitter.com/i/status/1896226783785279812   \n",
       "3            0         0  https://twitter.com/i/status/1896256464114868467   \n",
       "4            0         0  https://twitter.com/i/status/1896256464114868467   \n",
       "...        ...       ...                                               ...   \n",
       "3792      4562      1464  https://twitter.com/i/status/1895311279520391651   \n",
       "3793      6175       193  https://twitter.com/i/status/1895940738841743770   \n",
       "3794      6175       193  https://twitter.com/i/status/1895940738841743770   \n",
       "3795        98       106  https://twitter.com/i/status/1896266776880787658   \n",
       "3796         2         2  https://twitter.com/i/status/1895946107072757884   \n",
       "\n",
       "                            verification  isReply  \n",
       "0     {'verified': True, 'type': 'blue'}    False  \n",
       "1     {'verified': True, 'type': 'blue'}    False  \n",
       "2     {'verified': True, 'type': 'blue'}    False  \n",
       "3     {'verified': True, 'type': 'blue'}    False  \n",
       "4     {'verified': True, 'type': 'blue'}    False  \n",
       "...                                  ...      ...  \n",
       "3792  {'verified': True, 'type': 'blue'}    False  \n",
       "3793   {'verified': False, 'type': None}    False  \n",
       "3794   {'verified': False, 'type': None}    False  \n",
       "3795  {'verified': True, 'type': 'blue'}    False  \n",
       "3796   {'verified': False, 'type': None}    False  \n",
       "\n",
       "[6031 rows x 12 columns]"
      ]
     },
     "execution_count": 27,
     "metadata": {},
     "output_type": "execute_result"
    }
   ],
   "source": [
    "import json\n",
    "from pathlib import Path\n",
    "\n",
    "directory = Path('/home/centraly/projects/twitter_forecast/backend/scraping/data')\n",
    "data = []\n",
    "for file in directory.glob('*.json'):\n",
    "    with open(file, 'r') as f:\n",
    "        tweets = json.load(f)\n",
    "        l = [list(v) for v in tweets.values()]\n",
    "        l = [item for sublist in l for item in sublist]\n",
    "        df = pd.DataFrame(l)\n",
    "        data.append(df)\n",
    "\n",
    "data = pd.concat(data)\n",
    "data"
   ]
  },
  {
   "cell_type": "code",
   "execution_count": 28,
   "metadata": {},
   "outputs": [],
   "source": [
    "df[\"is_blue_verified\"] = df[\"verification\"].apply(lambda x: x[\"verified\"])\n",
    "df[\"checkmark_color\"] = df[\"verification\"].apply(lambda x: x[\"type\"])"
   ]
  },
  {
   "cell_type": "code",
   "execution_count": 29,
   "metadata": {},
   "outputs": [
    {
     "data": {
      "text/plain": [
       "is_blue_verified\n",
       "True     3011\n",
       "False     786\n",
       "Name: count, dtype: int64"
      ]
     },
     "execution_count": 29,
     "metadata": {},
     "output_type": "execute_result"
    }
   ],
   "source": [
    "df[\"is_blue_verified\"].value_counts()"
   ]
  },
  {
   "cell_type": "code",
   "execution_count": 30,
   "metadata": {},
   "outputs": [
    {
     "data": {
      "text/plain": [
       "[{'tweetId': '1896310473915802080',\n",
       "  'observationTime': '2025-03-03T00:27:12.585Z',\n",
       "  'author': 'beyzanurapaydin',\n",
       "  'tweetTime': '2025-03-02T21:23:43.000Z',\n",
       "  'text': 'Stacy Martin at the #Oscars2025',\n",
       "  'views': 6700.0,\n",
       "  'likes': 60,\n",
       "  'retweets': 18,\n",
       "  'comments': 1,\n",
       "  'url': 'https://twitter.com/i/status/1896310473915802080',\n",
       "  'verification': {'verified': True, 'type': 'blue'},\n",
       "  'isReply': False,\n",
       "  'is_blue_verified': True,\n",
       "  'checkmark_color': 'blue'},\n",
       " {'tweetId': '1896226783785279812',\n",
       "  'observationTime': '2025-03-03T00:29:15.476Z',\n",
       "  'author': 'offgriddesigner',\n",
       "  'tweetTime': '2025-03-02T15:51:10.000Z',\n",
       "  'text': 'The King of England, constitutionally required to remain politically impartial, is holding an audience with Zelensky to assure him of the UK’s ‘full support’ of Ukraine.\\n\\nWhat kind of ridiculous age are we living through? \\n\\nIt’s never been so f*cking obvious what is going on.',\n",
       "  'views': 10000.0,\n",
       "  'likes': 1317,\n",
       "  'retweets': 326,\n",
       "  'comments': 51,\n",
       "  'url': 'https://twitter.com/i/status/1896226783785279812',\n",
       "  'verification': {'verified': True, 'type': 'blue'},\n",
       "  'isReply': False,\n",
       "  'is_blue_verified': True,\n",
       "  'checkmark_color': 'blue'}]"
      ]
     },
     "execution_count": 30,
     "metadata": {},
     "output_type": "execute_result"
    }
   ],
   "source": [
    "df.drop_duplicates(subset=['tweetId']).to_dict(orient='records')[:2]"
   ]
  },
  {
   "cell_type": "code",
   "execution_count": 31,
   "metadata": {},
   "outputs": [],
   "source": [
    "from lib.database import db_bulk_insert, db_execute, db_query\n",
    "\n",
    "\"\"\"\n",
    "[{'tweetId': '1896207843814183113',\n",
    "  'observationTime': '2025-03-02T19:50:04.153Z',\n",
    "  'author': 'javilopen',\n",
    "  'tweetTime': '2025-03-02T14:35:54.000Z',\n",
    "  'views': 8400.0,\n",
    "  'likes': 106,\n",
    "  'retweets': 9,\n",
    "  'comments': 9,\n",
    "  'url': 'https://twitter.com/i/status/1896207843814183113'},\n",
    " {'tweetId': '1896279143823646945',\n",
    "  'observationTime': '2025-03-02T19:55:15.895Z',\n",
    "  'author': 'critchmitch',\n",
    "  'tweetTime': '2025-03-02T19:19:13.000Z',\n",
    "  'views': 35.0,\n",
    "  'likes': 0,\n",
    "  'retweets': 0,\n",
    "  'comments': 0,\n",
    "  'url': 'https://twitter.com/i/status/1896279143823646945'}]\n",
    "\"\"\"\n",
    "create_table = \"\"\"\n",
    "    create table if not exists twitter_forecast (\n",
    "        id serial primary key,\n",
    "        tweet_id varchar(255) not null unique,\n",
    "        observation_time timestamp,\n",
    "        author varchar(255),\n",
    "        tweet_time timestamp,\n",
    "        views int,\n",
    "        likes int,\n",
    "        retweets int,\n",
    "        comments int,\n",
    "        text text,\n",
    "        is_blue_verified boolean,\n",
    "        checkmark_color varchar(255),\n",
    "        url varchar(255),\n",
    "        author_followers_count int,\n",
    "        author_following_count int,\n",
    "        author_tweet_count int,\n",
    "        author_created_at timestamp,\n",
    "        created_at timestamp default now()\n",
    "    );\n",
    "\"\"\"\n",
    "\n",
    "db_execute(create_table)\n"
   ]
  },
  {
   "cell_type": "code",
   "execution_count": 32,
   "metadata": {},
   "outputs": [
    {
     "data": {
      "text/plain": [
       "1467"
      ]
     },
     "execution_count": 32,
     "metadata": {},
     "output_type": "execute_result"
    }
   ],
   "source": [
    "existing_ids = db_query(\"select tweet_id from twitter_forecast\")\n",
    "existing_ids = [row[\"tweet_id\"] for row in existing_ids]\n",
    "len(existing_ids)\n"
   ]
  },
  {
   "cell_type": "code",
   "execution_count": 33,
   "metadata": {},
   "outputs": [
    {
     "data": {
      "text/plain": [
       "869"
      ]
     },
     "execution_count": 33,
     "metadata": {},
     "output_type": "execute_result"
    }
   ],
   "source": [
    "filtered_df = df[~df['tweetId'].isin(existing_ids)].copy()\n",
    "len(filtered_df)\n"
   ]
  },
  {
   "cell_type": "code",
   "execution_count": 34,
   "metadata": {},
   "outputs": [],
   "source": [
    "import re\n",
    "\n",
    "def camel_to_snake(text: str) -> str:\n",
    "    \"\"\"Convert CamelCase to snake_case.\"\"\"\n",
    "    a = re.compile(r\"((?<=[a-z0-9])[A-Z]|(?!^)[A-Z](?=[a-z]))\")\n",
    "    return a.sub(r\"_\\1\", text).lower()\n",
    "\n",
    "filtered_df = filtered_df.rename(columns={c: camel_to_snake(c) for c in filtered_df.columns})"
   ]
  },
  {
   "cell_type": "code",
   "execution_count": 35,
   "metadata": {},
   "outputs": [
    {
     "data": {
      "text/plain": [
       "386"
      ]
     },
     "execution_count": 35,
     "metadata": {},
     "output_type": "execute_result"
    }
   ],
   "source": [
    "authors = filtered_df[\"author\"].unique()\n",
    "len(authors)"
   ]
  },
  {
   "cell_type": "code",
   "execution_count": 36,
   "metadata": {},
   "outputs": [
    {
     "data": {
      "text/plain": [
       "546"
      ]
     },
     "execution_count": 36,
     "metadata": {},
     "output_type": "execute_result"
    }
   ],
   "source": [
    "values = filtered_df.drop_duplicates(subset=['tweet_id']).to_dict(orient='records')\n",
    "len(values)"
   ]
  },
  {
   "cell_type": "code",
   "execution_count": 37,
   "metadata": {},
   "outputs": [],
   "source": [
    "insert_sql = \"\"\"\n",
    "    insert into twitter_forecast (tweet_id, observation_time, author, tweet_time, views, likes, retweets, comments, url, is_blue_verified, checkmark_color, text)\n",
    "    values %s\n",
    "\"\"\"\n",
    "\n",
    "# Convert dictionary values to list of tuples in the correct order\n",
    "value_tuples = [\n",
    "    (\n",
    "        item['tweet_id'],\n",
    "        item['observation_time'],\n",
    "        item['author'],\n",
    "        item['tweet_time'],\n",
    "        item['views'],\n",
    "        item['likes'],\n",
    "        item['retweets'],\n",
    "        item['comments'],\n",
    "        item['url'],\n",
    "        item['is_blue_verified'],\n",
    "        item['checkmark_color'],\n",
    "        item['text']\n",
    "    )\n",
    "    for item in values\n",
    "]\n",
    "\n",
    "db_bulk_insert(insert_sql, value_tuples)"
   ]
  },
  {
   "cell_type": "code",
   "execution_count": null,
   "metadata": {},
   "outputs": [],
   "source": []
  }
 ],
 "metadata": {
  "kernelspec": {
   "display_name": "tweet-forecast",
   "language": "python",
   "name": "python3"
  },
  "language_info": {
   "codemirror_mode": {
    "name": "ipython",
    "version": 3
   },
   "file_extension": ".py",
   "mimetype": "text/x-python",
   "name": "python",
   "nbconvert_exporter": "python",
   "pygments_lexer": "ipython3",
   "version": "3.11.11"
  }
 },
 "nbformat": 4,
 "nbformat_minor": 2
}
